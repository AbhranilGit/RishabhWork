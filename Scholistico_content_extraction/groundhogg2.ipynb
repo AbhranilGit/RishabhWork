{
 "cells": [
  {
   "cell_type": "code",
   "execution_count": 1,
   "metadata": {},
   "outputs": [
    {
     "name": "stdout",
     "output_type": "stream",
     "text": [
      "Starting Groundhogg data export...\n",
      "Fetching contacts...\n",
      "Saved contacts data to groundhogg_data/contacts.json\n",
      "Fetching tags...\n",
      "Saved tags data to groundhogg_data/tags.json\n",
      "Fetching broadcasts...\n",
      "Saved broadcasts data to groundhogg_data/broadcasts.json\n",
      "Fetching emails...\n",
      "Saved emails data to groundhogg_data/emails.json\n",
      "Fetching sms...\n",
      "Saved sms data to groundhogg_data/sms.json\n",
      "Data export completed!\n"
     ]
    }
   ],
   "source": [
    "import requests\n",
    "import json\n",
    "import os\n",
    "\n",
    "# API Authentication details\n",
    "SITE_URL = \"http://scholistico.com\"\n",
    "TOKEN = \"26a0293b0a4da82a960e6eb9effb4e31\"  # Replace with your actual token\n",
    "PUBLIC_KEY = \"0bc1ccfccb63183f99cbf2620847b64f\"  # Replace with your actual public key\n",
    "\n",
    "# Headers for authentication\n",
    "HEADERS = {\n",
    "    \"GH-TOKEN\": TOKEN,\n",
    "    \"GH-PUBLIC-KEY\": PUBLIC_KEY\n",
    "}\n",
    "\n",
    "# Create output directory\n",
    "os.makedirs(\"groundhogg_data\", exist_ok=True)\n",
    "\n",
    "# List of endpoints to fetch\n",
    "ENDPOINTS = [\n",
    "    \"contacts\",\n",
    "    \"tags\",\n",
    "    \"broadcasts\",\n",
    "    \"emails\",\n",
    "    \"sms\"\n",
    "]\n",
    "\n",
    "def fetch_and_save(endpoint):\n",
    "    \"\"\"Fetch data from API and save the raw JSON response\"\"\"\n",
    "    url = f\"{SITE_URL}/wp-json/gh/v3/{endpoint}\"\n",
    "    \n",
    "    print(f\"Fetching {endpoint}...\")\n",
    "    \n",
    "    try:\n",
    "        response = requests.get(url, headers=HEADERS)\n",
    "        response.raise_for_status()\n",
    "        \n",
    "        # Save the raw JSON\n",
    "        file_path = f\"groundhogg_data/{endpoint}.json\"\n",
    "        with open(file_path, 'w') as f:\n",
    "            json.dump(response.json(), f, indent=2)\n",
    "        \n",
    "        print(f\"Saved {endpoint} data to {file_path}\")\n",
    "        \n",
    "    except requests.exceptions.RequestException as e:\n",
    "        print(f\"Error fetching {endpoint}: {e}\")\n",
    "\n",
    "def main():\n",
    "    print(\"Starting Groundhogg data export...\")\n",
    "    \n",
    "    # Check if credentials are provided\n",
    "    if TOKEN == \"YOUR_GH_TOKEN_HERE\" or PUBLIC_KEY == \"YOUR_GH_PUBLIC_KEY_HERE\":\n",
    "        print(\"Please update the script with your actual TOKEN and PUBLIC_KEY values.\")\n",
    "        return\n",
    "    \n",
    "    # Fetch and save each endpoint\n",
    "    for endpoint in ENDPOINTS:\n",
    "        fetch_and_save(endpoint)\n",
    "    \n",
    "    print(\"Data export completed!\")\n",
    "\n",
    "if __name__ == \"__main__\":\n",
    "    main()"
   ]
  },
  {
   "cell_type": "code",
   "execution_count": 3,
   "metadata": {},
   "outputs": [
    {
     "name": "stdout",
     "output_type": "stream",
     "text": [
      "Fetching forum data from scholistico.com...\n",
      "Successfully retrieved data for 1 forums\n",
      "Complete forum data saved to 'scholistico_forums_complete.json'\n",
      "Data size: 3.15 KB\n",
      "Number of forums: 1\n"
     ]
    }
   ],
   "source": [
    "import requests\n",
    "import json\n",
    "\n",
    "# API endpoint\n",
    "url = \"https://scholistico.com/wp-json/buddyboss/v1/forums\"\n",
    "\n",
    "try:\n",
    "    # Make the GET request to the API\n",
    "    print(\"Fetching forum data from scholistico.com...\")\n",
    "    response = requests.get(url)\n",
    "    \n",
    "    # Check if the request was successful\n",
    "    if response.status_code == 200:\n",
    "        # Parse JSON response\n",
    "        forums_data = response.json()\n",
    "        \n",
    "        # Print success message\n",
    "        print(f\"Successfully retrieved data for {len(forums_data)} forums\")\n",
    "        \n",
    "        # Save the complete data to a JSON file\n",
    "        file_name = \"scholistico_forums_complete.json\"\n",
    "        with open(file_name, \"w\", encoding=\"utf-8\") as file:\n",
    "            json.dump(forums_data, file, indent=4, ensure_ascii=False)\n",
    "        \n",
    "        print(f\"Complete forum data saved to '{file_name}'\")\n",
    "        \n",
    "        # Print information about the size of the data\n",
    "        file_size_kb = round(len(json.dumps(forums_data)) / 1024, 2)\n",
    "        print(f\"Data size: {file_size_kb} KB\")\n",
    "        print(f\"Number of forums: {len(forums_data)}\")\n",
    "        \n",
    "    else:\n",
    "        print(f\"Failed to retrieve data. Status code: {response.status_code}\")\n",
    "        print(f\"Response: {response.text}\")\n",
    "        \n",
    "except Exception as e:\n",
    "    print(f\"An error occurred: {e}\")"
   ]
  },
  {
   "cell_type": "code",
   "execution_count": null,
   "metadata": {},
   "outputs": [],
   "source": []
  }
 ],
 "metadata": {
  "kernelspec": {
   "display_name": "Python 3",
   "language": "python",
   "name": "python3"
  },
  "language_info": {
   "codemirror_mode": {
    "name": "ipython",
    "version": 3
   },
   "file_extension": ".py",
   "mimetype": "text/x-python",
   "name": "python",
   "nbconvert_exporter": "python",
   "pygments_lexer": "ipython3",
   "version": "3.12.4"
  }
 },
 "nbformat": 4,
 "nbformat_minor": 2
}
